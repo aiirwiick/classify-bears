{
  "nbformat": 4,
  "nbformat_minor": 0,
  "metadata": {
    "colab": {
      "provenance": []
    },
    "kernelspec": {
      "name": "python3",
      "display_name": "Python 3"
    },
    "language_info": {
      "name": "python"
    },
    "accelerator": "GPU",
    "gpuClass": "standard",
    "widgets": {
      "application/vnd.jupyter.widget-state+json": {
        "7fedaef629254c6991b469f2b3c7e164": {
          "model_module": "@jupyter-widgets/controls",
          "model_name": "VBoxModel",
          "model_module_version": "1.5.0",
          "state": {
            "_dom_classes": [],
            "_model_module": "@jupyter-widgets/controls",
            "_model_module_version": "1.5.0",
            "_model_name": "VBoxModel",
            "_view_count": null,
            "_view_module": "@jupyter-widgets/controls",
            "_view_module_version": "1.5.0",
            "_view_name": "VBoxView",
            "box_style": "",
            "children": [
              "IPY_MODEL_197ba1a379d64d059ad7c326b61321b5",
              "IPY_MODEL_b3164987e15e49d19f4a84ba40fffc1c",
              "IPY_MODEL_70f1f9eb1961433d9a5fcfc8d33d1008",
              "IPY_MODEL_86e8f8adc15c423a9721d6edbb721a8a",
              "IPY_MODEL_4d955bd59b004cd08e3b8ac88b98baa0"
            ],
            "layout": "IPY_MODEL_ef27824592c64ed58de78eb00e53c53e"
          }
        },
        "197ba1a379d64d059ad7c326b61321b5": {
          "model_module": "@jupyter-widgets/controls",
          "model_name": "LabelModel",
          "model_module_version": "1.5.0",
          "state": {
            "_dom_classes": [],
            "_model_module": "@jupyter-widgets/controls",
            "_model_module_version": "1.5.0",
            "_model_name": "LabelModel",
            "_view_count": null,
            "_view_module": "@jupyter-widgets/controls",
            "_view_module_version": "1.5.0",
            "_view_name": "LabelView",
            "description": "",
            "description_tooltip": null,
            "layout": "IPY_MODEL_ef68b24983a349bd9684143d74397d74",
            "placeholder": "​",
            "style": "IPY_MODEL_b045682c6cd94dd5873daca22be29245",
            "value": "Select your bear!"
          }
        },
        "b3164987e15e49d19f4a84ba40fffc1c": {
          "model_module": "@jupyter-widgets/controls",
          "model_name": "FileUploadModel",
          "model_module_version": "1.5.0",
          "state": {
            "_counter": 1,
            "_dom_classes": [],
            "_model_module": "@jupyter-widgets/controls",
            "_model_module_version": "1.5.0",
            "_model_name": "FileUploadModel",
            "_view_count": null,
            "_view_module": "@jupyter-widgets/controls",
            "_view_module_version": "1.5.0",
            "_view_name": "FileUploadView",
            "accept": "",
            "button_style": "",
            "data": [
              null
            ],
            "description": "Upload",
            "description_tooltip": null,
            "disabled": false,
            "error": "",
            "icon": "upload",
            "layout": "IPY_MODEL_9df8b0371f144056b186e123a33147ee",
            "metadata": [
              {
                "name": "teddy.jpg",
                "type": "image/jpeg",
                "size": 15886,
                "lastModified": 1668821466378
              }
            ],
            "multiple": false,
            "style": "IPY_MODEL_43ad5bbe798f49798f2314c0002a6d98"
          }
        },
        "70f1f9eb1961433d9a5fcfc8d33d1008": {
          "model_module": "@jupyter-widgets/controls",
          "model_name": "ButtonModel",
          "model_module_version": "1.5.0",
          "state": {
            "_dom_classes": [],
            "_model_module": "@jupyter-widgets/controls",
            "_model_module_version": "1.5.0",
            "_model_name": "ButtonModel",
            "_view_count": null,
            "_view_module": "@jupyter-widgets/controls",
            "_view_module_version": "1.5.0",
            "_view_name": "ButtonView",
            "button_style": "",
            "description": "Classify",
            "disabled": false,
            "icon": "",
            "layout": "IPY_MODEL_79f8e84e91294a4eab5d8cb5c6810629",
            "style": "IPY_MODEL_3bdcf80acb9748dd8ad13fe542a405f8",
            "tooltip": ""
          }
        },
        "86e8f8adc15c423a9721d6edbb721a8a": {
          "model_module": "@jupyter-widgets/output",
          "model_name": "OutputModel",
          "model_module_version": "1.0.0",
          "state": {
            "_dom_classes": [],
            "_model_module": "@jupyter-widgets/output",
            "_model_module_version": "1.0.0",
            "_model_name": "OutputModel",
            "_view_count": null,
            "_view_module": "@jupyter-widgets/output",
            "_view_module_version": "1.0.0",
            "_view_name": "OutputView",
            "layout": "IPY_MODEL_cdf6b52510ea48419e14c3b3d889fcf5",
            "msg_id": "",
            "outputs": [
              {
                "output_type": "display_data",
                "data": {
                  "text/plain": "<PIL.Image.Image image mode=RGB size=128x128>",
                  "image/png": "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\n"
                },
                "metadata": {}
              }
            ]
          }
        },
        "4d955bd59b004cd08e3b8ac88b98baa0": {
          "model_module": "@jupyter-widgets/controls",
          "model_name": "LabelModel",
          "model_module_version": "1.5.0",
          "state": {
            "_dom_classes": [],
            "_model_module": "@jupyter-widgets/controls",
            "_model_module_version": "1.5.0",
            "_model_name": "LabelModel",
            "_view_count": null,
            "_view_module": "@jupyter-widgets/controls",
            "_view_module_version": "1.5.0",
            "_view_name": "LabelView",
            "description": "",
            "description_tooltip": null,
            "layout": "IPY_MODEL_6fda866acbc34441b80002a4ae614d82",
            "placeholder": "​",
            "style": "IPY_MODEL_a21b2c7930534480a9ac280e28ca078c",
            "value": "Prediction: teddy; Probability: 1.0000"
          }
        },
        "ef27824592c64ed58de78eb00e53c53e": {
          "model_module": "@jupyter-widgets/base",
          "model_name": "LayoutModel",
          "model_module_version": "1.2.0",
          "state": {
            "_model_module": "@jupyter-widgets/base",
            "_model_module_version": "1.2.0",
            "_model_name": "LayoutModel",
            "_view_count": null,
            "_view_module": "@jupyter-widgets/base",
            "_view_module_version": "1.2.0",
            "_view_name": "LayoutView",
            "align_content": null,
            "align_items": null,
            "align_self": null,
            "border": null,
            "bottom": null,
            "display": null,
            "flex": null,
            "flex_flow": null,
            "grid_area": null,
            "grid_auto_columns": null,
            "grid_auto_flow": null,
            "grid_auto_rows": null,
            "grid_column": null,
            "grid_gap": null,
            "grid_row": null,
            "grid_template_areas": null,
            "grid_template_columns": null,
            "grid_template_rows": null,
            "height": null,
            "justify_content": null,
            "justify_items": null,
            "left": null,
            "margin": null,
            "max_height": null,
            "max_width": null,
            "min_height": null,
            "min_width": null,
            "object_fit": null,
            "object_position": null,
            "order": null,
            "overflow": null,
            "overflow_x": null,
            "overflow_y": null,
            "padding": null,
            "right": null,
            "top": null,
            "visibility": null,
            "width": null
          }
        },
        "ef68b24983a349bd9684143d74397d74": {
          "model_module": "@jupyter-widgets/base",
          "model_name": "LayoutModel",
          "model_module_version": "1.2.0",
          "state": {
            "_model_module": "@jupyter-widgets/base",
            "_model_module_version": "1.2.0",
            "_model_name": "LayoutModel",
            "_view_count": null,
            "_view_module": "@jupyter-widgets/base",
            "_view_module_version": "1.2.0",
            "_view_name": "LayoutView",
            "align_content": null,
            "align_items": null,
            "align_self": null,
            "border": null,
            "bottom": null,
            "display": null,
            "flex": null,
            "flex_flow": null,
            "grid_area": null,
            "grid_auto_columns": null,
            "grid_auto_flow": null,
            "grid_auto_rows": null,
            "grid_column": null,
            "grid_gap": null,
            "grid_row": null,
            "grid_template_areas": null,
            "grid_template_columns": null,
            "grid_template_rows": null,
            "height": null,
            "justify_content": null,
            "justify_items": null,
            "left": null,
            "margin": null,
            "max_height": null,
            "max_width": null,
            "min_height": null,
            "min_width": null,
            "object_fit": null,
            "object_position": null,
            "order": null,
            "overflow": null,
            "overflow_x": null,
            "overflow_y": null,
            "padding": null,
            "right": null,
            "top": null,
            "visibility": null,
            "width": null
          }
        },
        "b045682c6cd94dd5873daca22be29245": {
          "model_module": "@jupyter-widgets/controls",
          "model_name": "DescriptionStyleModel",
          "model_module_version": "1.5.0",
          "state": {
            "_model_module": "@jupyter-widgets/controls",
            "_model_module_version": "1.5.0",
            "_model_name": "DescriptionStyleModel",
            "_view_count": null,
            "_view_module": "@jupyter-widgets/base",
            "_view_module_version": "1.2.0",
            "_view_name": "StyleView",
            "description_width": ""
          }
        },
        "9df8b0371f144056b186e123a33147ee": {
          "model_module": "@jupyter-widgets/base",
          "model_name": "LayoutModel",
          "model_module_version": "1.2.0",
          "state": {
            "_model_module": "@jupyter-widgets/base",
            "_model_module_version": "1.2.0",
            "_model_name": "LayoutModel",
            "_view_count": null,
            "_view_module": "@jupyter-widgets/base",
            "_view_module_version": "1.2.0",
            "_view_name": "LayoutView",
            "align_content": null,
            "align_items": null,
            "align_self": null,
            "border": null,
            "bottom": null,
            "display": null,
            "flex": null,
            "flex_flow": null,
            "grid_area": null,
            "grid_auto_columns": null,
            "grid_auto_flow": null,
            "grid_auto_rows": null,
            "grid_column": null,
            "grid_gap": null,
            "grid_row": null,
            "grid_template_areas": null,
            "grid_template_columns": null,
            "grid_template_rows": null,
            "height": null,
            "justify_content": null,
            "justify_items": null,
            "left": null,
            "margin": null,
            "max_height": null,
            "max_width": null,
            "min_height": null,
            "min_width": null,
            "object_fit": null,
            "object_position": null,
            "order": null,
            "overflow": null,
            "overflow_x": null,
            "overflow_y": null,
            "padding": null,
            "right": null,
            "top": null,
            "visibility": null,
            "width": null
          }
        },
        "43ad5bbe798f49798f2314c0002a6d98": {
          "model_module": "@jupyter-widgets/controls",
          "model_name": "ButtonStyleModel",
          "model_module_version": "1.5.0",
          "state": {
            "_model_module": "@jupyter-widgets/controls",
            "_model_module_version": "1.5.0",
            "_model_name": "ButtonStyleModel",
            "_view_count": null,
            "_view_module": "@jupyter-widgets/base",
            "_view_module_version": "1.2.0",
            "_view_name": "StyleView",
            "button_color": null,
            "font_weight": ""
          }
        },
        "79f8e84e91294a4eab5d8cb5c6810629": {
          "model_module": "@jupyter-widgets/base",
          "model_name": "LayoutModel",
          "model_module_version": "1.2.0",
          "state": {
            "_model_module": "@jupyter-widgets/base",
            "_model_module_version": "1.2.0",
            "_model_name": "LayoutModel",
            "_view_count": null,
            "_view_module": "@jupyter-widgets/base",
            "_view_module_version": "1.2.0",
            "_view_name": "LayoutView",
            "align_content": null,
            "align_items": null,
            "align_self": null,
            "border": null,
            "bottom": null,
            "display": null,
            "flex": null,
            "flex_flow": null,
            "grid_area": null,
            "grid_auto_columns": null,
            "grid_auto_flow": null,
            "grid_auto_rows": null,
            "grid_column": null,
            "grid_gap": null,
            "grid_row": null,
            "grid_template_areas": null,
            "grid_template_columns": null,
            "grid_template_rows": null,
            "height": null,
            "justify_content": null,
            "justify_items": null,
            "left": null,
            "margin": null,
            "max_height": null,
            "max_width": null,
            "min_height": null,
            "min_width": null,
            "object_fit": null,
            "object_position": null,
            "order": null,
            "overflow": null,
            "overflow_x": null,
            "overflow_y": null,
            "padding": null,
            "right": null,
            "top": null,
            "visibility": null,
            "width": null
          }
        },
        "3bdcf80acb9748dd8ad13fe542a405f8": {
          "model_module": "@jupyter-widgets/controls",
          "model_name": "ButtonStyleModel",
          "model_module_version": "1.5.0",
          "state": {
            "_model_module": "@jupyter-widgets/controls",
            "_model_module_version": "1.5.0",
            "_model_name": "ButtonStyleModel",
            "_view_count": null,
            "_view_module": "@jupyter-widgets/base",
            "_view_module_version": "1.2.0",
            "_view_name": "StyleView",
            "button_color": null,
            "font_weight": ""
          }
        },
        "6fda866acbc34441b80002a4ae614d82": {
          "model_module": "@jupyter-widgets/base",
          "model_name": "LayoutModel",
          "model_module_version": "1.2.0",
          "state": {
            "_model_module": "@jupyter-widgets/base",
            "_model_module_version": "1.2.0",
            "_model_name": "LayoutModel",
            "_view_count": null,
            "_view_module": "@jupyter-widgets/base",
            "_view_module_version": "1.2.0",
            "_view_name": "LayoutView",
            "align_content": null,
            "align_items": null,
            "align_self": null,
            "border": null,
            "bottom": null,
            "display": null,
            "flex": null,
            "flex_flow": null,
            "grid_area": null,
            "grid_auto_columns": null,
            "grid_auto_flow": null,
            "grid_auto_rows": null,
            "grid_column": null,
            "grid_gap": null,
            "grid_row": null,
            "grid_template_areas": null,
            "grid_template_columns": null,
            "grid_template_rows": null,
            "height": null,
            "justify_content": null,
            "justify_items": null,
            "left": null,
            "margin": null,
            "max_height": null,
            "max_width": null,
            "min_height": null,
            "min_width": null,
            "object_fit": null,
            "object_position": null,
            "order": null,
            "overflow": null,
            "overflow_x": null,
            "overflow_y": null,
            "padding": null,
            "right": null,
            "top": null,
            "visibility": null,
            "width": null
          }
        },
        "a21b2c7930534480a9ac280e28ca078c": {
          "model_module": "@jupyter-widgets/controls",
          "model_name": "DescriptionStyleModel",
          "model_module_version": "1.5.0",
          "state": {
            "_model_module": "@jupyter-widgets/controls",
            "_model_module_version": "1.5.0",
            "_model_name": "DescriptionStyleModel",
            "_view_count": null,
            "_view_module": "@jupyter-widgets/base",
            "_view_module_version": "1.2.0",
            "_view_name": "StyleView",
            "description_width": ""
          }
        },
        "cdf6b52510ea48419e14c3b3d889fcf5": {
          "model_module": "@jupyter-widgets/base",
          "model_name": "LayoutModel",
          "model_module_version": "1.2.0",
          "state": {
            "_model_module": "@jupyter-widgets/base",
            "_model_module_version": "1.2.0",
            "_model_name": "LayoutModel",
            "_view_count": null,
            "_view_module": "@jupyter-widgets/base",
            "_view_module_version": "1.2.0",
            "_view_name": "LayoutView",
            "align_content": null,
            "align_items": null,
            "align_self": null,
            "border": null,
            "bottom": null,
            "display": null,
            "flex": null,
            "flex_flow": null,
            "grid_area": null,
            "grid_auto_columns": null,
            "grid_auto_flow": null,
            "grid_auto_rows": null,
            "grid_column": null,
            "grid_gap": null,
            "grid_row": null,
            "grid_template_areas": null,
            "grid_template_columns": null,
            "grid_template_rows": null,
            "height": null,
            "justify_content": null,
            "justify_items": null,
            "left": null,
            "margin": null,
            "max_height": null,
            "max_width": null,
            "min_height": null,
            "min_width": null,
            "object_fit": null,
            "object_position": null,
            "order": null,
            "overflow": null,
            "overflow_x": null,
            "overflow_y": null,
            "padding": null,
            "right": null,
            "top": null,
            "visibility": null,
            "width": null
          }
        }
      }
    }
  },
  "cells": [
    {
      "cell_type": "code",
      "execution_count": 1,
      "metadata": {
        "colab": {
          "base_uri": "https://localhost:8080/"
        },
        "id": "FASiuJuNg50-",
        "outputId": "f914a4d6-a716-4f5c-f155-7f168d1fdbb9"
      },
      "outputs": [
        {
          "output_type": "stream",
          "name": "stdout",
          "text": [
            "\u001b[K     |████████████████████████████████| 719 kB 5.2 MB/s \n",
            "\u001b[K     |████████████████████████████████| 5.5 MB 44.4 MB/s \n",
            "\u001b[K     |████████████████████████████████| 451 kB 42.2 MB/s \n",
            "\u001b[K     |████████████████████████████████| 1.3 MB 19.7 MB/s \n",
            "\u001b[K     |████████████████████████████████| 1.6 MB 42.6 MB/s \n",
            "\u001b[K     |████████████████████████████████| 182 kB 42.9 MB/s \n",
            "\u001b[K     |████████████████████████████████| 115 kB 49.0 MB/s \n",
            "\u001b[K     |████████████████████████████████| 212 kB 44.6 MB/s \n",
            "\u001b[K     |████████████████████████████████| 127 kB 53.7 MB/s \n",
            "\u001b[K     |████████████████████████████████| 7.6 MB 41.5 MB/s \n",
            "\u001b[?25hMounted at /content/gdrive\n"
          ]
        }
      ],
      "source": [
        "#hide\n",
        "! [ -e /content ] && pip install -Uqq fastbook\n",
        "import fastbook\n",
        "fastbook.setup_book()"
      ]
    },
    {
      "cell_type": "code",
      "source": [
        "#hide\n",
        "from fastbook import *\n",
        "from fastai.vision.widgets import *"
      ],
      "metadata": {
        "id": "RoRwdhvohMCv"
      },
      "execution_count": 2,
      "outputs": []
    },
    {
      "cell_type": "code",
      "source": [
        "path = Path()\n",
        "path.ls(file_exts='.pkl')"
      ],
      "metadata": {
        "colab": {
          "base_uri": "https://localhost:8080/"
        },
        "id": "WY-hOiEKh4Mo",
        "outputId": "a847aff4-7c2c-462b-fb93-8d14b17ad167"
      },
      "execution_count": 3,
      "outputs": [
        {
          "output_type": "execute_result",
          "data": {
            "text/plain": [
              "(#1) [Path('export.pkl')]"
            ]
          },
          "metadata": {},
          "execution_count": 3
        }
      ]
    },
    {
      "cell_type": "code",
      "source": [
        "learn_inf = load_learner(path/'export.pkl')"
      ],
      "metadata": {
        "id": "znBBGW5ApYoc"
      },
      "execution_count": 6,
      "outputs": []
    },
    {
      "cell_type": "code",
      "source": [
        "btn_upload = widgets.FileUpload()"
      ],
      "metadata": {
        "id": "0AE2NcPtg9FE"
      },
      "execution_count": 4,
      "outputs": []
    },
    {
      "cell_type": "code",
      "source": [
        "btn_run = widgets.Button(description='Classify')"
      ],
      "metadata": {
        "id": "Fb8SVgBMhH7x"
      },
      "execution_count": 5,
      "outputs": []
    },
    {
      "cell_type": "code",
      "source": [
        "out_pl = widgets.Output()"
      ],
      "metadata": {
        "id": "1rtHBo7Hp6CC"
      },
      "execution_count": 12,
      "outputs": []
    },
    {
      "cell_type": "code",
      "source": [
        "lbl_pred = widgets.Label()"
      ],
      "metadata": {
        "id": "rh19h5FdqBAn"
      },
      "execution_count": 13,
      "outputs": []
    },
    {
      "cell_type": "code",
      "source": [
        "def on_click_classify(change):\n",
        "    img = PILImage.create(btn_upload.data[-1])\n",
        "    out_pl.clear_output()\n",
        "    with out_pl: display(img.to_thumb(128,128))\n",
        "    pred,pred_idx,probs = learn_inf.predict(img)\n",
        "    lbl_pred.value = f'Prediction: {pred}; Probability: {probs[pred_idx]:.04f}'\n",
        "\n",
        "btn_run.on_click(on_click_classify)"
      ],
      "metadata": {
        "id": "XTcA-1AWhoJ7"
      },
      "execution_count": 14,
      "outputs": []
    },
    {
      "cell_type": "code",
      "source": [
        "VBox([widgets.Label('Select your bear!'), \n",
        "      btn_upload, btn_run, out_pl, lbl_pred])"
      ],
      "metadata": {
        "colab": {
          "base_uri": "https://localhost:8080/",
          "height": 273,
          "referenced_widgets": [
            "7fedaef629254c6991b469f2b3c7e164",
            "197ba1a379d64d059ad7c326b61321b5",
            "b3164987e15e49d19f4a84ba40fffc1c",
            "70f1f9eb1961433d9a5fcfc8d33d1008",
            "86e8f8adc15c423a9721d6edbb721a8a",
            "4d955bd59b004cd08e3b8ac88b98baa0",
            "ef27824592c64ed58de78eb00e53c53e",
            "ef68b24983a349bd9684143d74397d74",
            "b045682c6cd94dd5873daca22be29245",
            "9df8b0371f144056b186e123a33147ee",
            "43ad5bbe798f49798f2314c0002a6d98",
            "79f8e84e91294a4eab5d8cb5c6810629",
            "3bdcf80acb9748dd8ad13fe542a405f8",
            "6fda866acbc34441b80002a4ae614d82",
            "a21b2c7930534480a9ac280e28ca078c",
            "cdf6b52510ea48419e14c3b3d889fcf5"
          ]
        },
        "id": "EiEgUNo8qMuK",
        "outputId": "f239e646-1860-4083-96ab-1fc1982eeee9"
      },
      "execution_count": 15,
      "outputs": [
        {
          "output_type": "display_data",
          "data": {
            "text/plain": [
              "VBox(children=(Label(value='Select your bear!'), FileUpload(value={}, description='Upload'), Button(descriptio…"
            ],
            "application/vnd.jupyter.widget-view+json": {
              "version_major": 2,
              "version_minor": 0,
              "model_id": "7fedaef629254c6991b469f2b3c7e164"
            }
          },
          "metadata": {}
        },
        {
          "output_type": "display_data",
          "data": {
            "text/plain": [
              "<IPython.core.display.HTML object>"
            ],
            "text/html": [
              "\n",
              "<style>\n",
              "    /* Turns off some styling */\n",
              "    progress {\n",
              "        /* gets rid of default border in Firefox and Opera. */\n",
              "        border: none;\n",
              "        /* Needs to be in here for Safari polyfill so background images work as expected. */\n",
              "        background-size: auto;\n",
              "    }\n",
              "    progress:not([value]), progress:not([value])::-webkit-progress-bar {\n",
              "        background: repeating-linear-gradient(45deg, #7e7e7e, #7e7e7e 10px, #5c5c5c 10px, #5c5c5c 20px);\n",
              "    }\n",
              "    .progress-bar-interrupted, .progress-bar-interrupted::-webkit-progress-bar {\n",
              "        background: #F44336;\n",
              "    }\n",
              "</style>\n"
            ]
          },
          "metadata": {}
        },
        {
          "output_type": "display_data",
          "data": {
            "text/plain": [
              "<IPython.core.display.HTML object>"
            ],
            "text/html": []
          },
          "metadata": {}
        }
      ]
    },
    {
      "cell_type": "code",
      "source": [
        "!pip install voila\n",
        "!jupyter serverextension enable --sys-prefix voila"
      ],
      "metadata": {
        "colab": {
          "base_uri": "https://localhost:8080/",
          "height": 1000
        },
        "id": "3RdUbuqVhq7K",
        "outputId": "b10a857f-8983-4d6e-fe0d-fff6fab503c0"
      },
      "execution_count": 16,
      "outputs": [
        {
          "output_type": "stream",
          "name": "stdout",
          "text": [
            "Looking in indexes: https://pypi.org/simple, https://us-python.pkg.dev/colab-wheels/public/simple/\n",
            "Collecting voila\n",
            "  Downloading voila-0.4.0-py3-none-any.whl (5.5 MB)\n",
            "\u001b[K     |████████████████████████████████| 5.5 MB 5.7 MB/s \n",
            "\u001b[?25hCollecting jupyterlab-server<3,>=2.3.0\n",
            "  Downloading jupyterlab_server-2.16.3-py3-none-any.whl (54 kB)\n",
            "\u001b[K     |████████████████████████████████| 54 kB 2.3 MB/s \n",
            "\u001b[?25hCollecting nbconvert<8,>=6.4.5\n",
            "  Downloading nbconvert-7.2.5-py3-none-any.whl (273 kB)\n",
            "\u001b[K     |████████████████████████████████| 273 kB 45.8 MB/s \n",
            "\u001b[?25hCollecting nbclient<0.8,>=0.4.0\n",
            "  Downloading nbclient-0.7.0-py3-none-any.whl (71 kB)\n",
            "\u001b[K     |████████████████████████████████| 71 kB 202 kB/s \n",
            "\u001b[?25hRequirement already satisfied: jupyter-core>=4.11.0 in /usr/local/lib/python3.7/dist-packages (from voila) (4.11.2)\n",
            "Requirement already satisfied: jupyter-client<=7.4.1,>=6.1.3 in /usr/local/lib/python3.7/dist-packages (from voila) (6.1.12)\n",
            "Requirement already satisfied: traitlets<6,>=5.0.3 in /usr/local/lib/python3.7/dist-packages (from voila) (5.1.1)\n",
            "Collecting websockets>=9.0\n",
            "  Downloading websockets-10.4-cp37-cp37m-manylinux_2_5_x86_64.manylinux1_x86_64.manylinux_2_17_x86_64.manylinux2014_x86_64.whl (106 kB)\n",
            "\u001b[K     |████████████████████████████████| 106 kB 46.4 MB/s \n",
            "\u001b[?25hCollecting jupyter-server<2.0.0,>=1.18\n",
            "  Downloading jupyter_server-1.23.2-py3-none-any.whl (346 kB)\n",
            "\u001b[K     |████████████████████████████████| 346 kB 54.7 MB/s \n",
            "\u001b[?25hRequirement already satisfied: pyzmq>=13 in /usr/local/lib/python3.7/dist-packages (from jupyter-client<=7.4.1,>=6.1.3->voila) (23.2.1)\n",
            "Requirement already satisfied: python-dateutil>=2.1 in /usr/local/lib/python3.7/dist-packages (from jupyter-client<=7.4.1,>=6.1.3->voila) (2.8.2)\n",
            "Requirement already satisfied: tornado>=4.1 in /usr/local/lib/python3.7/dist-packages (from jupyter-client<=7.4.1,>=6.1.3->voila) (6.0.4)\n",
            "Collecting tornado>=4.1\n",
            "  Downloading tornado-6.2-cp37-abi3-manylinux_2_5_x86_64.manylinux1_x86_64.manylinux_2_17_x86_64.manylinux2014_x86_64.whl (423 kB)\n",
            "\u001b[K     |████████████████████████████████| 423 kB 46.6 MB/s \n",
            "\u001b[?25hCollecting websocket-client\n",
            "  Downloading websocket_client-1.4.2-py3-none-any.whl (55 kB)\n",
            "\u001b[K     |████████████████████████████████| 55 kB 3.3 MB/s \n",
            "\u001b[?25hCollecting argon2-cffi\n",
            "  Downloading argon2_cffi-21.3.0-py3-none-any.whl (14 kB)\n",
            "Collecting anyio<4,>=3.1.0\n",
            "  Downloading anyio-3.6.2-py3-none-any.whl (80 kB)\n",
            "\u001b[K     |████████████████████████████████| 80 kB 9.8 MB/s \n",
            "\u001b[?25hRequirement already satisfied: packaging in /usr/local/lib/python3.7/dist-packages (from jupyter-server<2.0.0,>=1.18->voila) (21.3)\n",
            "Requirement already satisfied: jinja2 in /usr/local/lib/python3.7/dist-packages (from jupyter-server<2.0.0,>=1.18->voila) (2.11.3)\n",
            "Requirement already satisfied: nbformat>=5.2.0 in /usr/local/lib/python3.7/dist-packages (from jupyter-server<2.0.0,>=1.18->voila) (5.7.0)\n",
            "Requirement already satisfied: prometheus-client in /usr/local/lib/python3.7/dist-packages (from jupyter-server<2.0.0,>=1.18->voila) (0.15.0)\n",
            "Requirement already satisfied: Send2Trash in /usr/local/lib/python3.7/dist-packages (from jupyter-server<2.0.0,>=1.18->voila) (1.8.0)\n",
            "Requirement already satisfied: terminado>=0.8.3 in /usr/local/lib/python3.7/dist-packages (from jupyter-server<2.0.0,>=1.18->voila) (0.13.3)\n",
            "Collecting sniffio>=1.1\n",
            "  Downloading sniffio-1.3.0-py3-none-any.whl (10 kB)\n",
            "Requirement already satisfied: idna>=2.8 in /usr/local/lib/python3.7/dist-packages (from anyio<4,>=3.1.0->jupyter-server<2.0.0,>=1.18->voila) (2.10)\n",
            "Requirement already satisfied: typing-extensions in /usr/local/lib/python3.7/dist-packages (from anyio<4,>=3.1.0->jupyter-server<2.0.0,>=1.18->voila) (4.1.1)\n",
            "Requirement already satisfied: requests in /usr/local/lib/python3.7/dist-packages (from jupyterlab-server<3,>=2.3.0->voila) (2.23.0)\n",
            "Collecting json5\n",
            "  Downloading json5-0.9.10-py2.py3-none-any.whl (19 kB)\n",
            "Collecting jinja2\n",
            "  Downloading Jinja2-3.1.2-py3-none-any.whl (133 kB)\n",
            "\u001b[K     |████████████████████████████████| 133 kB 46.9 MB/s \n",
            "\u001b[?25hRequirement already satisfied: babel in /usr/local/lib/python3.7/dist-packages (from jupyterlab-server<3,>=2.3.0->voila) (2.11.0)\n",
            "Requirement already satisfied: importlib-metadata>=4.8.3 in /usr/local/lib/python3.7/dist-packages (from jupyterlab-server<3,>=2.3.0->voila) (4.13.0)\n",
            "Requirement already satisfied: jsonschema>=3.0.1 in /usr/local/lib/python3.7/dist-packages (from jupyterlab-server<3,>=2.3.0->voila) (4.3.3)\n",
            "Requirement already satisfied: zipp>=0.5 in /usr/local/lib/python3.7/dist-packages (from importlib-metadata>=4.8.3->jupyterlab-server<3,>=2.3.0->voila) (3.10.0)\n",
            "Requirement already satisfied: MarkupSafe>=2.0 in /usr/local/lib/python3.7/dist-packages (from jinja2->jupyter-server<2.0.0,>=1.18->voila) (2.0.1)\n",
            "Requirement already satisfied: importlib-resources>=1.4.0 in /usr/local/lib/python3.7/dist-packages (from jsonschema>=3.0.1->jupyterlab-server<3,>=2.3.0->voila) (5.10.0)\n",
            "Requirement already satisfied: pyrsistent!=0.17.0,!=0.17.1,!=0.17.2,>=0.14.0 in /usr/local/lib/python3.7/dist-packages (from jsonschema>=3.0.1->jupyterlab-server<3,>=2.3.0->voila) (0.19.2)\n",
            "Requirement already satisfied: attrs>=17.4.0 in /usr/local/lib/python3.7/dist-packages (from jsonschema>=3.0.1->jupyterlab-server<3,>=2.3.0->voila) (22.1.0)\n",
            "Collecting nest-asyncio\n",
            "  Downloading nest_asyncio-1.5.6-py3-none-any.whl (5.2 kB)\n",
            "Collecting traitlets<6,>=5.0.3\n",
            "  Downloading traitlets-5.5.0-py3-none-any.whl (107 kB)\n",
            "\u001b[K     |████████████████████████████████| 107 kB 59.4 MB/s \n",
            "\u001b[?25hRequirement already satisfied: pygments>=2.4.1 in /usr/local/lib/python3.7/dist-packages (from nbconvert<8,>=6.4.5->voila) (2.6.1)\n",
            "Requirement already satisfied: pandocfilters>=1.4.1 in /usr/local/lib/python3.7/dist-packages (from nbconvert<8,>=6.4.5->voila) (1.5.0)\n",
            "Collecting jupyterlab-pygments\n",
            "  Downloading jupyterlab_pygments-0.2.2-py2.py3-none-any.whl (21 kB)\n",
            "Collecting mistune<3,>=2.0.3\n",
            "  Downloading mistune-2.0.4-py2.py3-none-any.whl (24 kB)\n",
            "Requirement already satisfied: bleach in /usr/local/lib/python3.7/dist-packages (from nbconvert<8,>=6.4.5->voila) (5.0.1)\n",
            "Requirement already satisfied: beautifulsoup4 in /usr/local/lib/python3.7/dist-packages (from nbconvert<8,>=6.4.5->voila) (4.6.3)\n",
            "Requirement already satisfied: defusedxml in /usr/local/lib/python3.7/dist-packages (from nbconvert<8,>=6.4.5->voila) (0.7.1)\n",
            "Collecting tinycss2\n",
            "  Downloading tinycss2-1.2.1-py3-none-any.whl (21 kB)\n",
            "Requirement already satisfied: fastjsonschema in /usr/local/lib/python3.7/dist-packages (from nbformat>=5.2.0->jupyter-server<2.0.0,>=1.18->voila) (2.16.2)\n",
            "Requirement already satisfied: six>=1.5 in /usr/local/lib/python3.7/dist-packages (from python-dateutil>=2.1->jupyter-client<=7.4.1,>=6.1.3->voila) (1.15.0)\n",
            "Requirement already satisfied: ptyprocess in /usr/local/lib/python3.7/dist-packages (from terminado>=0.8.3->jupyter-server<2.0.0,>=1.18->voila) (0.7.0)\n",
            "Collecting argon2-cffi-bindings\n",
            "  Downloading argon2_cffi_bindings-21.2.0-cp36-abi3-manylinux_2_17_x86_64.manylinux2014_x86_64.whl (86 kB)\n",
            "\u001b[K     |████████████████████████████████| 86 kB 5.0 MB/s \n",
            "\u001b[?25hRequirement already satisfied: cffi>=1.0.1 in /usr/local/lib/python3.7/dist-packages (from argon2-cffi-bindings->argon2-cffi->jupyter-server<2.0.0,>=1.18->voila) (1.15.1)\n",
            "Requirement already satisfied: pycparser in /usr/local/lib/python3.7/dist-packages (from cffi>=1.0.1->argon2-cffi-bindings->argon2-cffi->jupyter-server<2.0.0,>=1.18->voila) (2.21)\n",
            "Requirement already satisfied: pytz>=2015.7 in /usr/local/lib/python3.7/dist-packages (from babel->jupyterlab-server<3,>=2.3.0->voila) (2022.6)\n",
            "Requirement already satisfied: webencodings in /usr/local/lib/python3.7/dist-packages (from bleach->nbconvert<8,>=6.4.5->voila) (0.5.1)\n",
            "Requirement already satisfied: pyparsing!=3.0.5,>=2.0.2 in /usr/local/lib/python3.7/dist-packages (from packaging->jupyter-server<2.0.0,>=1.18->voila) (3.0.9)\n",
            "Requirement already satisfied: urllib3!=1.25.0,!=1.25.1,<1.26,>=1.21.1 in /usr/local/lib/python3.7/dist-packages (from requests->jupyterlab-server<3,>=2.3.0->voila) (1.25.11)\n",
            "Requirement already satisfied: certifi>=2017.4.17 in /usr/local/lib/python3.7/dist-packages (from requests->jupyterlab-server<3,>=2.3.0->voila) (2022.9.24)\n",
            "Requirement already satisfied: chardet<4,>=3.0.2 in /usr/local/lib/python3.7/dist-packages (from requests->jupyterlab-server<3,>=2.3.0->voila) (3.0.4)\n",
            "Installing collected packages: traitlets, tornado, nest-asyncio, tinycss2, sniffio, nbclient, mistune, jupyterlab-pygments, jinja2, argon2-cffi-bindings, websocket-client, nbconvert, argon2-cffi, anyio, jupyter-server, json5, websockets, jupyterlab-server, voila\n",
            "  Attempting uninstall: traitlets\n",
            "    Found existing installation: traitlets 5.1.1\n",
            "    Uninstalling traitlets-5.1.1:\n",
            "      Successfully uninstalled traitlets-5.1.1\n",
            "  Attempting uninstall: tornado\n",
            "    Found existing installation: tornado 6.0.4\n",
            "    Uninstalling tornado-6.0.4:\n",
            "      Successfully uninstalled tornado-6.0.4\n",
            "  Attempting uninstall: mistune\n",
            "    Found existing installation: mistune 0.8.4\n",
            "    Uninstalling mistune-0.8.4:\n",
            "      Successfully uninstalled mistune-0.8.4\n",
            "  Attempting uninstall: jinja2\n",
            "    Found existing installation: Jinja2 2.11.3\n",
            "    Uninstalling Jinja2-2.11.3:\n",
            "      Successfully uninstalled Jinja2-2.11.3\n",
            "  Attempting uninstall: nbconvert\n",
            "    Found existing installation: nbconvert 5.6.1\n",
            "    Uninstalling nbconvert-5.6.1:\n",
            "      Successfully uninstalled nbconvert-5.6.1\n",
            "\u001b[31mERROR: pip's dependency resolver does not currently take into account all the packages that are installed. This behaviour is the source of the following dependency conflicts.\n",
            "notebook 5.7.16 requires jinja2<=3.0.0, but you have jinja2 3.1.2 which is incompatible.\n",
            "notebook 5.7.16 requires nbconvert<6.0, but you have nbconvert 7.2.5 which is incompatible.\n",
            "google-colab 1.0.0 requires tornado~=6.0.4, but you have tornado 6.2 which is incompatible.\n",
            "flask 1.1.4 requires Jinja2<3.0,>=2.10.1, but you have jinja2 3.1.2 which is incompatible.\u001b[0m\n",
            "Successfully installed anyio-3.6.2 argon2-cffi-21.3.0 argon2-cffi-bindings-21.2.0 jinja2-3.1.2 json5-0.9.10 jupyter-server-1.23.2 jupyterlab-pygments-0.2.2 jupyterlab-server-2.16.3 mistune-2.0.4 nbclient-0.7.0 nbconvert-7.2.5 nest-asyncio-1.5.6 sniffio-1.3.0 tinycss2-1.2.1 tornado-6.2 traitlets-5.5.0 voila-0.4.0 websocket-client-1.4.2 websockets-10.4\n"
          ]
        },
        {
          "output_type": "display_data",
          "data": {
            "application/vnd.colab-display-data+json": {
              "pip_warning": {
                "packages": [
                  "tornado"
                ]
              }
            }
          },
          "metadata": {}
        },
        {
          "output_type": "stream",
          "name": "stdout",
          "text": [
            "Enabling: voila\n",
            "- Writing config: /usr/etc/jupyter\n",
            "    - Validating...\n",
            "      voila 0.4.0 \u001b[32mOK\u001b[0m\n"
          ]
        }
      ]
    },
    {
      "cell_type": "code",
      "source": [],
      "metadata": {
        "id": "mhJQs7ARqRrr"
      },
      "execution_count": null,
      "outputs": []
    }
  ]
}